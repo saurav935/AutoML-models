{
 "cells": [
  {
   "cell_type": "code",
   "execution_count": 2,
   "id": "e4f2d31b",
   "metadata": {},
   "outputs": [
    {
     "name": "stdout",
     "output_type": "stream",
     "text": [
      "Requirement already satisfied: tpot in /home/oem/Downloads/yes/lib/python3.8/site-packages (0.11.7)\n",
      "Requirement already satisfied: xgboost>=1.1.0 in /home/oem/Downloads/yes/lib/python3.8/site-packages (from tpot) (1.5.0)\n",
      "Requirement already satisfied: numpy>=1.16.3 in /home/oem/.local/lib/python3.8/site-packages (from tpot) (1.21.3)\n",
      "Requirement already satisfied: update-checker>=0.16 in /home/oem/Downloads/yes/lib/python3.8/site-packages (from tpot) (0.18.0)\n",
      "Requirement already satisfied: pandas>=0.24.2 in /home/oem/.local/lib/python3.8/site-packages (from tpot) (1.3.4)\n",
      "Requirement already satisfied: stopit>=1.1.1 in /home/oem/Downloads/yes/lib/python3.8/site-packages (from tpot) (1.1.2)\n",
      "Requirement already satisfied: deap>=1.2 in /home/oem/Downloads/yes/lib/python3.8/site-packages (from tpot) (1.3.1)\n",
      "Requirement already satisfied: scipy>=1.3.1 in /home/oem/Downloads/yes/lib/python3.8/site-packages (from tpot) (1.7.1)\n",
      "Requirement already satisfied: tqdm>=4.36.1 in /home/oem/Downloads/yes/lib/python3.8/site-packages (from tpot) (4.59.0)\n",
      "Requirement already satisfied: scikit-learn>=0.22.0 in /home/oem/Downloads/yes/lib/python3.8/site-packages (from tpot) (0.24.1)\n",
      "Requirement already satisfied: joblib>=0.13.2 in /home/oem/Downloads/yes/lib/python3.8/site-packages (from tpot) (1.0.1)\n",
      "Requirement already satisfied: python-dateutil>=2.7.3 in /home/oem/Downloads/yes/lib/python3.8/site-packages (from pandas>=0.24.2->tpot) (2.8.1)\n",
      "Requirement already satisfied: pytz>=2017.3 in /home/oem/Downloads/yes/lib/python3.8/site-packages (from pandas>=0.24.2->tpot) (2021.1)\n",
      "Requirement already satisfied: six>=1.5 in /home/oem/Downloads/yes/lib/python3.8/site-packages (from python-dateutil>=2.7.3->pandas>=0.24.2->tpot) (1.15.0)\n",
      "Requirement already satisfied: threadpoolctl>=2.0.0 in /home/oem/Downloads/yes/lib/python3.8/site-packages (from scikit-learn>=0.22.0->tpot) (2.1.0)\n",
      "Requirement already satisfied: requests>=2.3.0 in /home/oem/Downloads/yes/lib/python3.8/site-packages (from update-checker>=0.16->tpot) (2.25.1)\n",
      "Requirement already satisfied: urllib3<1.27,>=1.21.1 in /home/oem/Downloads/yes/lib/python3.8/site-packages (from requests>=2.3.0->update-checker>=0.16->tpot) (1.26.4)\n",
      "Requirement already satisfied: idna<3,>=2.5 in /home/oem/Downloads/yes/lib/python3.8/site-packages (from requests>=2.3.0->update-checker>=0.16->tpot) (2.10)\n",
      "Requirement already satisfied: certifi>=2017.4.17 in /home/oem/Downloads/yes/lib/python3.8/site-packages (from requests>=2.3.0->update-checker>=0.16->tpot) (2020.12.5)\n",
      "Requirement already satisfied: chardet<5,>=3.0.2 in /home/oem/Downloads/yes/lib/python3.8/site-packages (from requests>=2.3.0->update-checker>=0.16->tpot) (4.0.0)\n",
      "tpot: 0.11.7\n"
     ]
    },
    {
     "name": "stderr",
     "output_type": "stream",
     "text": [
      "/home/oem/Downloads/yes/lib/python3.8/site-packages/tpot/builtins/__init__.py:36: UserWarning: Warning: optional dependency `torch` is not available. - skipping import of NN models.\n",
      "  warnings.warn(\"Warning: optional dependency `torch` is not available. - skipping import of NN models.\")\n"
     ]
    }
   ],
   "source": [
    "!pip install tpot\n",
    "import pandas as pd\n",
    "import numpy as np\n",
    "import tpot\n",
    "print('tpot: %s' % tpot.__version__)\n"
   ]
  },
  {
   "cell_type": "code",
   "execution_count": 5,
   "id": "1489c39f",
   "metadata": {},
   "outputs": [],
   "source": [
    "df = pd.read_csv('knn_data.csv')"
   ]
  },
  {
   "cell_type": "code",
   "execution_count": 6,
   "id": "5681c5ef",
   "metadata": {},
   "outputs": [
    {
     "data": {
      "text/html": [
       "<div>\n",
       "<style scoped>\n",
       "    .dataframe tbody tr th:only-of-type {\n",
       "        vertical-align: middle;\n",
       "    }\n",
       "\n",
       "    .dataframe tbody tr th {\n",
       "        vertical-align: top;\n",
       "    }\n",
       "\n",
       "    .dataframe thead th {\n",
       "        text-align: right;\n",
       "    }\n",
       "</style>\n",
       "<table border=\"1\" class=\"dataframe\">\n",
       "  <thead>\n",
       "    <tr style=\"text-align: right;\">\n",
       "      <th></th>\n",
       "      <th>patient_id</th>\n",
       "      <th>full_name</th>\n",
       "      <th>address</th>\n",
       "      <th>age_days</th>\n",
       "      <th>age_year</th>\n",
       "      <th>gender</th>\n",
       "      <th>height</th>\n",
       "      <th>weight</th>\n",
       "      <th>ap_hi</th>\n",
       "      <th>ap_lo</th>\n",
       "      <th>cholesterol</th>\n",
       "      <th>gluc</th>\n",
       "      <th>smoke</th>\n",
       "      <th>alco</th>\n",
       "      <th>active</th>\n",
       "      <th>cardio</th>\n",
       "    </tr>\n",
       "  </thead>\n",
       "  <tbody>\n",
       "    <tr>\n",
       "      <th>0</th>\n",
       "      <td>1d604da9-9a81-4ba9-80c2-de3375d59b40</td>\n",
       "      <td>Keaton Wade</td>\n",
       "      <td>427 Balistreri Way Unit 19</td>\n",
       "      <td>18393</td>\n",
       "      <td>50.391781</td>\n",
       "      <td>2</td>\n",
       "      <td>168</td>\n",
       "      <td>62.0</td>\n",
       "      <td>110</td>\n",
       "      <td>80</td>\n",
       "      <td>1</td>\n",
       "      <td>1</td>\n",
       "      <td>0</td>\n",
       "      <td>0</td>\n",
       "      <td>1</td>\n",
       "      <td>0</td>\n",
       "    </tr>\n",
       "    <tr>\n",
       "      <th>1</th>\n",
       "      <td>8d4c4326-e9de-4f45-9a4c-f8c36bff89ae</td>\n",
       "      <td>Branson Webb</td>\n",
       "      <td>422 Farrell Path Unit 69</td>\n",
       "      <td>20228</td>\n",
       "      <td>55.419178</td>\n",
       "      <td>1</td>\n",
       "      <td>156</td>\n",
       "      <td>85.0</td>\n",
       "      <td>140</td>\n",
       "      <td>90</td>\n",
       "      <td>3</td>\n",
       "      <td>1</td>\n",
       "      <td>0</td>\n",
       "      <td>0</td>\n",
       "      <td>1</td>\n",
       "      <td>1</td>\n",
       "    </tr>\n",
       "    <tr>\n",
       "      <th>2</th>\n",
       "      <td>8d4c4326-e9de-4f45-9a4c-f8c36bff89ae</td>\n",
       "      <td>Cassie Cobb</td>\n",
       "      <td>1056 Harris Lane Suite 70</td>\n",
       "      <td>18857</td>\n",
       "      <td>51.663014</td>\n",
       "      <td>1</td>\n",
       "      <td>165</td>\n",
       "      <td>64.0</td>\n",
       "      <td>130</td>\n",
       "      <td>70</td>\n",
       "      <td>3</td>\n",
       "      <td>1</td>\n",
       "      <td>0</td>\n",
       "      <td>0</td>\n",
       "      <td>0</td>\n",
       "      <td>1</td>\n",
       "    </tr>\n",
       "    <tr>\n",
       "      <th>3</th>\n",
       "      <td>10339b10-3cd1-4ac3-ac13-ec26728cb592</td>\n",
       "      <td>Camron Ortega</td>\n",
       "      <td>999 Kuhn Forge</td>\n",
       "      <td>17623</td>\n",
       "      <td>48.282192</td>\n",
       "      <td>2</td>\n",
       "      <td>169</td>\n",
       "      <td>82.0</td>\n",
       "      <td>150</td>\n",
       "      <td>100</td>\n",
       "      <td>1</td>\n",
       "      <td>1</td>\n",
       "      <td>0</td>\n",
       "      <td>0</td>\n",
       "      <td>1</td>\n",
       "      <td>1</td>\n",
       "    </tr>\n",
       "    <tr>\n",
       "      <th>4</th>\n",
       "      <td>f5dcd418-09fe-4a2f-baa0-3da800bd8c3a</td>\n",
       "      <td>Mallory Macdonald</td>\n",
       "      <td>1050 Lindgren Extension Apt 38</td>\n",
       "      <td>17474</td>\n",
       "      <td>47.873973</td>\n",
       "      <td>1</td>\n",
       "      <td>156</td>\n",
       "      <td>56.0</td>\n",
       "      <td>100</td>\n",
       "      <td>60</td>\n",
       "      <td>1</td>\n",
       "      <td>1</td>\n",
       "      <td>0</td>\n",
       "      <td>0</td>\n",
       "      <td>0</td>\n",
       "      <td>0</td>\n",
       "    </tr>\n",
       "  </tbody>\n",
       "</table>\n",
       "</div>"
      ],
      "text/plain": [
       "                             patient_id          full_name  \\\n",
       "0  1d604da9-9a81-4ba9-80c2-de3375d59b40        Keaton Wade   \n",
       "1  8d4c4326-e9de-4f45-9a4c-f8c36bff89ae       Branson Webb   \n",
       "2  8d4c4326-e9de-4f45-9a4c-f8c36bff89ae        Cassie Cobb   \n",
       "3  10339b10-3cd1-4ac3-ac13-ec26728cb592      Camron Ortega   \n",
       "4  f5dcd418-09fe-4a2f-baa0-3da800bd8c3a  Mallory Macdonald   \n",
       "\n",
       "                          address  age_days   age_year  gender  height  \\\n",
       "0      427 Balistreri Way Unit 19     18393  50.391781       2     168   \n",
       "1        422 Farrell Path Unit 69     20228  55.419178       1     156   \n",
       "2       1056 Harris Lane Suite 70     18857  51.663014       1     165   \n",
       "3                  999 Kuhn Forge     17623  48.282192       2     169   \n",
       "4  1050 Lindgren Extension Apt 38     17474  47.873973       1     156   \n",
       "\n",
       "   weight  ap_hi  ap_lo  cholesterol  gluc  smoke  alco  active  cardio  \n",
       "0    62.0    110     80            1     1      0     0       1       0  \n",
       "1    85.0    140     90            3     1      0     0       1       1  \n",
       "2    64.0    130     70            3     1      0     0       0       1  \n",
       "3    82.0    150    100            1     1      0     0       1       1  \n",
       "4    56.0    100     60            1     1      0     0       0       0  "
      ]
     },
     "execution_count": 6,
     "metadata": {},
     "output_type": "execute_result"
    }
   ],
   "source": [
    "df.head()"
   ]
  },
  {
   "cell_type": "code",
   "execution_count": 7,
   "id": "a9686074",
   "metadata": {},
   "outputs": [],
   "source": [
    "from sklearn.model_selection import train_test_split\n",
    "from sklearn.preprocessing import StandardScaler\n",
    "\n",
    "x = df[df.columns[4:-1]]\n",
    "y = df['cardio']\n",
    "sc = StandardScaler()\n",
    "x = sc.fit_transform(x)\n",
    "\n",
    "\n",
    "x_train, x_test, y_train, y_test = train_test_split(x, y, test_size = 0.2, random_state = 0)"
   ]
  },
  {
   "cell_type": "code",
   "execution_count": 8,
   "id": "464deaf4",
   "metadata": {},
   "outputs": [],
   "source": [
    "from sklearn.preprocessing import LabelEncoder\n",
    "from sklearn.model_selection import RepeatedStratifiedKFold\n",
    "from tpot import TPOTClassifier\n",
    "# define model evaluation\n",
    "cv = RepeatedStratifiedKFold(n_splits=10, n_repeats=3, random_state=1)"
   ]
  },
  {
   "cell_type": "code",
   "execution_count": 9,
   "id": "4738a863",
   "metadata": {},
   "outputs": [],
   "source": [
    "# define search\n",
    "model = TPOTClassifier(generations=5, population_size=50, cv=cv, scoring='accuracy', verbosity=2, random_state=1, n_jobs=-1)"
   ]
  },
  {
   "cell_type": "code",
   "execution_count": 10,
   "id": "cd7f5313",
   "metadata": {},
   "outputs": [
    {
     "data": {
      "application/vnd.jupyter.widget-view+json": {
       "model_id": "",
       "version_major": 2,
       "version_minor": 0
      },
      "text/plain": [
       "Optimization Progress:   0%|          | 0/300 [00:00<?, ?pipeline/s]"
      ]
     },
     "metadata": {},
     "output_type": "display_data"
    },
    {
     "name": "stdout",
     "output_type": "stream",
     "text": [
      "\n",
      "Generation 1 - Current best internal CV score: 0.7354345238095238\n",
      "\n",
      "Generation 2 - Current best internal CV score: 0.7358095238095238\n",
      "\n",
      "Generation 3 - Current best internal CV score: 0.7364583333333333\n",
      "\n",
      "Generation 4 - Current best internal CV score: 0.7364583333333333\n",
      "\n",
      "Generation 5 - Current best internal CV score: 0.7364583333333333\n",
      "\n",
      "Best pipeline: GradientBoostingClassifier(input_matrix, learning_rate=0.1, max_depth=4, max_features=0.6000000000000001, min_samples_leaf=19, min_samples_split=8, n_estimators=100, subsample=0.15000000000000002)\n"
     ]
    },
    {
     "data": {
      "text/plain": [
       "TPOTClassifier(cv=RepeatedStratifiedKFold(n_repeats=3, n_splits=10, random_state=1),\n",
       "               generations=5, n_jobs=-1, population_size=50, random_state=1,\n",
       "               scoring='accuracy', verbosity=2)"
      ]
     },
     "execution_count": 10,
     "metadata": {},
     "output_type": "execute_result"
    }
   ],
   "source": [
    "model.fit(x_train, y_train)"
   ]
  },
  {
   "cell_type": "code",
   "execution_count": null,
   "id": "1cf8b08d",
   "metadata": {},
   "outputs": [],
   "source": [
   ]
  }
 ],
 "metadata": {
  "kernelspec": {
   "display_name": "Python 3",
   "language": "python",
   "name": "python3"
  },
  "language_info": {
   "codemirror_mode": {
    "name": "ipython",
    "version": 3
   },
   "file_extension": ".py",
   "mimetype": "text/x-python",
   "name": "python",
   "nbconvert_exporter": "python",
   "pygments_lexer": "ipython3",
   "version": "3.8.8"
  }
 },
 "nbformat": 4,
 "nbformat_minor": 5
}
