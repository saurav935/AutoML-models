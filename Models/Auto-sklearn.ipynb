{
 "cells": [
  {
   "cell_type": "code",
   "execution_count": 1,
   "id": "dbe90283",
   "metadata": {},
   "outputs": [
    {
     "name": "stdout",
     "output_type": "stream",
     "text": [
      "E: Could not open lock file /var/lib/dpkg/lock-frontend - open (13: Permission denied)\n",
      "E: Unable to acquire the dpkg frontend lock (/var/lib/dpkg/lock-frontend), are you root?\n",
      "Requirement already satisfied: Cython in /home/oem/Downloads/yes/lib/python3.8/site-packages (0.29.23)\n",
      "Requirement already satisfied: numpy in /home/oem/.local/lib/python3.8/site-packages (1.21.3)\n",
      "Requirement already satisfied: auto-sklearn in /home/oem/Downloads/yes/lib/python3.8/site-packages (0.14.0)\n",
      "Requirement already satisfied: joblib in /home/oem/Downloads/yes/lib/python3.8/site-packages (from auto-sklearn) (1.0.1)\n",
      "Requirement already satisfied: threadpoolctl in /home/oem/Downloads/yes/lib/python3.8/site-packages (from auto-sklearn) (2.1.0)\n",
      "Requirement already satisfied: pyrfr<0.9,>=0.8.1 in /home/oem/Downloads/yes/lib/python3.8/site-packages (from auto-sklearn) (0.8.2)\n",
      "Requirement already satisfied: scipy>=1.7.0 in /home/oem/Downloads/yes/lib/python3.8/site-packages (from auto-sklearn) (1.7.1)\n",
      "Requirement already satisfied: smac>=0.14 in /home/oem/Downloads/yes/lib/python3.8/site-packages (from auto-sklearn) (1.1)\n",
      "Requirement already satisfied: dask<2021.07 in /home/oem/Downloads/yes/lib/python3.8/site-packages (from auto-sklearn) (2021.4.0)\n",
      "Requirement already satisfied: pyyaml in /home/oem/Downloads/yes/lib/python3.8/site-packages (from auto-sklearn) (5.4.1)\n",
      "Requirement already satisfied: liac-arff in /home/oem/Downloads/yes/lib/python3.8/site-packages (from auto-sklearn) (2.5.0)\n",
      "Requirement already satisfied: pynisher>=0.6.3 in /home/oem/Downloads/yes/lib/python3.8/site-packages (from auto-sklearn) (0.6.4)\n",
      "Requirement already satisfied: setuptools in /home/oem/Downloads/yes/lib/python3.8/site-packages (from auto-sklearn) (52.0.0.post20210125)\n",
      "Requirement already satisfied: distributed<2021.07,>=2.2.0 in /home/oem/Downloads/yes/lib/python3.8/site-packages (from auto-sklearn) (2021.4.1)\n",
      "Requirement already satisfied: typing-extensions in /home/oem/Downloads/yes/lib/python3.8/site-packages (from auto-sklearn) (3.7.4.3)\n",
      "Requirement already satisfied: numpy>=1.9.0 in /home/oem/.local/lib/python3.8/site-packages (from auto-sklearn) (1.21.3)\n",
      "Requirement already satisfied: ConfigSpace<0.5,>=0.4.14 in /home/oem/Downloads/yes/lib/python3.8/site-packages (from auto-sklearn) (0.4.20)\n",
      "Requirement already satisfied: pandas>=1.0 in /home/oem/.local/lib/python3.8/site-packages (from auto-sklearn) (1.3.4)\n",
      "Requirement already satisfied: scikit-learn<0.25.0,>=0.24.0 in /home/oem/Downloads/yes/lib/python3.8/site-packages (from auto-sklearn) (0.24.1)\n",
      "Requirement already satisfied: pyparsing in /home/oem/Downloads/yes/lib/python3.8/site-packages (from ConfigSpace<0.5,>=0.4.14->auto-sklearn) (2.4.7)\n",
      "Requirement already satisfied: cython in /home/oem/Downloads/yes/lib/python3.8/site-packages (from ConfigSpace<0.5,>=0.4.14->auto-sklearn) (0.29.23)\n",
      "Requirement already satisfied: toolz>=0.8.2 in /home/oem/Downloads/yes/lib/python3.8/site-packages (from dask<2021.07->auto-sklearn) (0.11.1)\n",
      "Requirement already satisfied: fsspec>=0.6.0 in /home/oem/Downloads/yes/lib/python3.8/site-packages (from dask<2021.07->auto-sklearn) (0.9.0)\n",
      "Requirement already satisfied: cloudpickle>=1.1.1 in /home/oem/Downloads/yes/lib/python3.8/site-packages (from dask<2021.07->auto-sklearn) (1.6.0)\n",
      "Requirement already satisfied: partd>=0.3.10 in /home/oem/Downloads/yes/lib/python3.8/site-packages (from dask<2021.07->auto-sklearn) (1.2.0)\n",
      "Requirement already satisfied: zict>=0.1.3 in /home/oem/Downloads/yes/lib/python3.8/site-packages (from distributed<2021.07,>=2.2.0->auto-sklearn) (2.0.0)\n",
      "Requirement already satisfied: click>=6.6 in /home/oem/Downloads/yes/lib/python3.8/site-packages (from distributed<2021.07,>=2.2.0->auto-sklearn) (7.1.2)\n",
      "Requirement already satisfied: psutil>=5.0 in /home/oem/Downloads/yes/lib/python3.8/site-packages (from distributed<2021.07,>=2.2.0->auto-sklearn) (5.8.0)\n",
      "Requirement already satisfied: sortedcontainers!=2.0.0,!=2.0.1 in /home/oem/Downloads/yes/lib/python3.8/site-packages (from distributed<2021.07,>=2.2.0->auto-sklearn) (2.3.0)\n",
      "Requirement already satisfied: tornado>=6.0.3 in /home/oem/Downloads/yes/lib/python3.8/site-packages (from distributed<2021.07,>=2.2.0->auto-sklearn) (6.1)\n",
      "Requirement already satisfied: tblib>=1.6.0 in /home/oem/Downloads/yes/lib/python3.8/site-packages (from distributed<2021.07,>=2.2.0->auto-sklearn) (1.7.0)\n",
      "Requirement already satisfied: msgpack>=0.6.0 in /home/oem/Downloads/yes/lib/python3.8/site-packages (from distributed<2021.07,>=2.2.0->auto-sklearn) (1.0.2)\n",
      "Requirement already satisfied: pytz>=2017.3 in /home/oem/Downloads/yes/lib/python3.8/site-packages (from pandas>=1.0->auto-sklearn) (2021.1)\n",
      "Requirement already satisfied: python-dateutil>=2.7.3 in /home/oem/Downloads/yes/lib/python3.8/site-packages (from pandas>=1.0->auto-sklearn) (2.8.1)\n",
      "Requirement already satisfied: locket in /home/oem/Downloads/yes/lib/python3.8/site-packages/locket-0.2.1-py3.8.egg (from partd>=0.3.10->dask<2021.07->auto-sklearn) (0.2.1)\n",
      "Requirement already satisfied: six>=1.5 in /home/oem/Downloads/yes/lib/python3.8/site-packages (from python-dateutil>=2.7.3->pandas>=1.0->auto-sklearn) (1.15.0)\n",
      "Requirement already satisfied: emcee in /home/oem/Downloads/yes/lib/python3.8/site-packages (from smac>=0.14->auto-sklearn) (3.1.1)\n",
      "Requirement already satisfied: heapdict in /home/oem/Downloads/yes/lib/python3.8/site-packages (from zict>=0.1.3->distributed<2021.07,>=2.2.0->auto-sklearn) (1.0.1)\n"
     ]
    }
   ],
   "source": [
    "!apt-get install swig -y\n",
    "!pip install Cython numpy\n",
    "!pip install auto-sklearn"
   ]
  },
  {
   "cell_type": "code",
   "execution_count": 2,
   "id": "dfc7a19a",
   "metadata": {},
   "outputs": [],
   "source": [
    "import sklearn\n",
    "import autosklearn.classification as classifier\n",
    "from sklearn.model_selection import train_test_split\n",
    "import pandas as pd\n",
    "import numpy as np"
   ]
  },
  {
   "cell_type": "code",
   "execution_count": 3,
   "id": "81d2a887",
   "metadata": {},
   "outputs": [],
   "source": [
    "df = pd.read_csv('knn_data.csv')"
   ]
  },
  {
   "cell_type": "code",
   "execution_count": 4,
   "id": "fec98ab3",
   "metadata": {},
   "outputs": [
    {
     "data": {
      "text/html": [
       "<div>\n",
       "<style scoped>\n",
       "    .dataframe tbody tr th:only-of-type {\n",
       "        vertical-align: middle;\n",
       "    }\n",
       "\n",
       "    .dataframe tbody tr th {\n",
       "        vertical-align: top;\n",
       "    }\n",
       "\n",
       "    .dataframe thead th {\n",
       "        text-align: right;\n",
       "    }\n",
       "</style>\n",
       "<table border=\"1\" class=\"dataframe\">\n",
       "  <thead>\n",
       "    <tr style=\"text-align: right;\">\n",
       "      <th></th>\n",
       "      <th>patient_id</th>\n",
       "      <th>full_name</th>\n",
       "      <th>address</th>\n",
       "      <th>age_days</th>\n",
       "      <th>age_year</th>\n",
       "      <th>gender</th>\n",
       "      <th>height</th>\n",
       "      <th>weight</th>\n",
       "      <th>ap_hi</th>\n",
       "      <th>ap_lo</th>\n",
       "      <th>cholesterol</th>\n",
       "      <th>gluc</th>\n",
       "      <th>smoke</th>\n",
       "      <th>alco</th>\n",
       "      <th>active</th>\n",
       "      <th>cardio</th>\n",
       "    </tr>\n",
       "  </thead>\n",
       "  <tbody>\n",
       "    <tr>\n",
       "      <th>0</th>\n",
       "      <td>1d604da9-9a81-4ba9-80c2-de3375d59b40</td>\n",
       "      <td>Keaton Wade</td>\n",
       "      <td>427 Balistreri Way Unit 19</td>\n",
       "      <td>18393</td>\n",
       "      <td>50.391781</td>\n",
       "      <td>2</td>\n",
       "      <td>168</td>\n",
       "      <td>62.0</td>\n",
       "      <td>110</td>\n",
       "      <td>80</td>\n",
       "      <td>1</td>\n",
       "      <td>1</td>\n",
       "      <td>0</td>\n",
       "      <td>0</td>\n",
       "      <td>1</td>\n",
       "      <td>0</td>\n",
       "    </tr>\n",
       "    <tr>\n",
       "      <th>1</th>\n",
       "      <td>8d4c4326-e9de-4f45-9a4c-f8c36bff89ae</td>\n",
       "      <td>Branson Webb</td>\n",
       "      <td>422 Farrell Path Unit 69</td>\n",
       "      <td>20228</td>\n",
       "      <td>55.419178</td>\n",
       "      <td>1</td>\n",
       "      <td>156</td>\n",
       "      <td>85.0</td>\n",
       "      <td>140</td>\n",
       "      <td>90</td>\n",
       "      <td>3</td>\n",
       "      <td>1</td>\n",
       "      <td>0</td>\n",
       "      <td>0</td>\n",
       "      <td>1</td>\n",
       "      <td>1</td>\n",
       "    </tr>\n",
       "    <tr>\n",
       "      <th>2</th>\n",
       "      <td>8d4c4326-e9de-4f45-9a4c-f8c36bff89ae</td>\n",
       "      <td>Cassie Cobb</td>\n",
       "      <td>1056 Harris Lane Suite 70</td>\n",
       "      <td>18857</td>\n",
       "      <td>51.663014</td>\n",
       "      <td>1</td>\n",
       "      <td>165</td>\n",
       "      <td>64.0</td>\n",
       "      <td>130</td>\n",
       "      <td>70</td>\n",
       "      <td>3</td>\n",
       "      <td>1</td>\n",
       "      <td>0</td>\n",
       "      <td>0</td>\n",
       "      <td>0</td>\n",
       "      <td>1</td>\n",
       "    </tr>\n",
       "    <tr>\n",
       "      <th>3</th>\n",
       "      <td>10339b10-3cd1-4ac3-ac13-ec26728cb592</td>\n",
       "      <td>Camron Ortega</td>\n",
       "      <td>999 Kuhn Forge</td>\n",
       "      <td>17623</td>\n",
       "      <td>48.282192</td>\n",
       "      <td>2</td>\n",
       "      <td>169</td>\n",
       "      <td>82.0</td>\n",
       "      <td>150</td>\n",
       "      <td>100</td>\n",
       "      <td>1</td>\n",
       "      <td>1</td>\n",
       "      <td>0</td>\n",
       "      <td>0</td>\n",
       "      <td>1</td>\n",
       "      <td>1</td>\n",
       "    </tr>\n",
       "    <tr>\n",
       "      <th>4</th>\n",
       "      <td>f5dcd418-09fe-4a2f-baa0-3da800bd8c3a</td>\n",
       "      <td>Mallory Macdonald</td>\n",
       "      <td>1050 Lindgren Extension Apt 38</td>\n",
       "      <td>17474</td>\n",
       "      <td>47.873973</td>\n",
       "      <td>1</td>\n",
       "      <td>156</td>\n",
       "      <td>56.0</td>\n",
       "      <td>100</td>\n",
       "      <td>60</td>\n",
       "      <td>1</td>\n",
       "      <td>1</td>\n",
       "      <td>0</td>\n",
       "      <td>0</td>\n",
       "      <td>0</td>\n",
       "      <td>0</td>\n",
       "    </tr>\n",
       "  </tbody>\n",
       "</table>\n",
       "</div>"
      ],
      "text/plain": [
       "                             patient_id          full_name  \\\n",
       "0  1d604da9-9a81-4ba9-80c2-de3375d59b40        Keaton Wade   \n",
       "1  8d4c4326-e9de-4f45-9a4c-f8c36bff89ae       Branson Webb   \n",
       "2  8d4c4326-e9de-4f45-9a4c-f8c36bff89ae        Cassie Cobb   \n",
       "3  10339b10-3cd1-4ac3-ac13-ec26728cb592      Camron Ortega   \n",
       "4  f5dcd418-09fe-4a2f-baa0-3da800bd8c3a  Mallory Macdonald   \n",
       "\n",
       "                          address  age_days   age_year  gender  height  \\\n",
       "0      427 Balistreri Way Unit 19     18393  50.391781       2     168   \n",
       "1        422 Farrell Path Unit 69     20228  55.419178       1     156   \n",
       "2       1056 Harris Lane Suite 70     18857  51.663014       1     165   \n",
       "3                  999 Kuhn Forge     17623  48.282192       2     169   \n",
       "4  1050 Lindgren Extension Apt 38     17474  47.873973       1     156   \n",
       "\n",
       "   weight  ap_hi  ap_lo  cholesterol  gluc  smoke  alco  active  cardio  \n",
       "0    62.0    110     80            1     1      0     0       1       0  \n",
       "1    85.0    140     90            3     1      0     0       1       1  \n",
       "2    64.0    130     70            3     1      0     0       0       1  \n",
       "3    82.0    150    100            1     1      0     0       1       1  \n",
       "4    56.0    100     60            1     1      0     0       0       0  "
      ]
     },
     "execution_count": 4,
     "metadata": {},
     "output_type": "execute_result"
    }
   ],
   "source": [
    "df.head()"
   ]
  },
  {
   "cell_type": "code",
   "execution_count": 5,
   "id": "71c8105d",
   "metadata": {},
   "outputs": [],
   "source": [
    "from sklearn.preprocessing import StandardScaler\n",
    "\n",
    "x = df[df.columns[4:-1]]\n",
    "y = df['cardio']\n",
    "sc = StandardScaler()\n",
    "x = sc.fit_transform(x)\n",
    "\n",
    "\n",
    "x_train, x_test, y_train, y_test = train_test_split(x, y, test_size = 0.2, random_state = 0)"
   ]
  },
  {
   "cell_type": "code",
   "execution_count": 6,
   "id": "6fec7451",
   "metadata": {},
   "outputs": [
    {
     "name": "stdout",
     "output_type": "stream",
     "text": [
      "[WARNING] [2021-10-28 13:13:19,140:Client-AutoML(1):b7305272-37c2-11ec-8cea-afaddfd3ff59] Capping the per_run_time_limit to 89.0 to have time for a least 2 models in each process.\n"
     ]
    },
    {
     "data": {
      "text/plain": [
       "AutoSklearnClassifier(per_run_time_limit=120, time_left_for_this_task=180)"
      ]
     },
     "execution_count": 6,
     "metadata": {},
     "output_type": "execute_result"
    }
   ],
   "source": [
    "automl_classifier = classifier.AutoSklearnClassifier(time_left_for_this_task = 180, per_run_time_limit = 120)\n",
    "automl_classifier.fit(x_train,y_train)"
   ]
  },
  {
   "cell_type": "code",
   "execution_count": 7,
   "id": "e4053956",
   "metadata": {},
   "outputs": [
    {
     "name": "stdout",
     "output_type": "stream",
     "text": [
      "0.7289285714285715\n"
     ]
    }
   ],
   "source": [
    "from sklearn.metrics import accuracy_score\n",
    "y_pred = automl_classifier.predict(x_test)\n",
    "\n",
    "score = accuracy_score(y_test, y_pred)\n",
    "print(score)"
   ]
  },
  {
   "cell_type": "code",
   "execution_count": 8,
   "id": "92e135f8",
   "metadata": {},
   "outputs": [
    {
     "data": {
      "text/plain": [
       "\"[(0.780000, SimpleClassificationPipeline({'balancing:strategy': 'weighting', 'classifier:__choice__': 'gradient_boosting', 'data_preprocessor:__choice__': 'feature_type', 'feature_preprocessor:__choice__': 'no_preprocessing', 'classifier:gradient_boosting:early_stop': 'off', 'classifier:gradient_boosting:l2_regularization': 1.0945814167023392e-10, 'classifier:gradient_boosting:learning_rate': 0.11042628136263043, 'classifier:gradient_boosting:loss': 'auto', 'classifier:gradient_boosting:max_bins': 255, 'classifier:gradient_boosting:max_depth': 'None', 'classifier:gradient_boosting:max_leaf_nodes': 30, 'classifier:gradient_boosting:min_samples_leaf': 22, 'classifier:gradient_boosting:scoring': 'loss', 'classifier:gradient_boosting:tol': 1e-07, 'data_preprocessor:feature_type:categorical_transformer:categorical_encoding:__choice__': 'one_hot_encoding', 'data_preprocessor:feature_type:categorical_transformer:category_coalescence:__choice__': 'minority_coalescer', 'data_preprocessor:feature_type:numerical_transformer:imputation:strategy': 'mean', 'data_preprocessor:feature_type:numerical_transformer:rescaling:__choice__': 'standardize', 'data_preprocessor:feature_type:categorical_transformer:category_coalescence:minority_coalescer:minimum_fraction': 0.05141281638752715},\\ndataset_properties={\\n  'task': 1,\\n  'sparse': False,\\n  'multilabel': False,\\n  'multiclass': False,\\n  'target_type': 'classification',\\n  'signed': False})),\\n(0.180000, SimpleClassificationPipeline({'balancing:strategy': 'none', 'classifier:__choice__': 'random_forest', 'data_preprocessor:__choice__': 'feature_type', 'feature_preprocessor:__choice__': 'no_preprocessing', 'classifier:random_forest:bootstrap': 'True', 'classifier:random_forest:criterion': 'gini', 'classifier:random_forest:max_depth': 'None', 'classifier:random_forest:max_features': 0.5, 'classifier:random_forest:max_leaf_nodes': 'None', 'classifier:random_forest:min_impurity_decrease': 0.0, 'classifier:random_forest:min_samples_leaf': 1, 'classifier:random_forest:min_samples_split': 2, 'classifier:random_forest:min_weight_fraction_leaf': 0.0, 'data_preprocessor:feature_type:categorical_transformer:categorical_encoding:__choice__': 'one_hot_encoding', 'data_preprocessor:feature_type:categorical_transformer:category_coalescence:__choice__': 'minority_coalescer', 'data_preprocessor:feature_type:numerical_transformer:imputation:strategy': 'mean', 'data_preprocessor:feature_type:numerical_transformer:rescaling:__choice__': 'standardize', 'data_preprocessor:feature_type:categorical_transformer:category_coalescence:minority_coalescer:minimum_fraction': 0.01},\\ndataset_properties={\\n  'task': 1,\\n  'sparse': False,\\n  'multilabel': False,\\n  'multiclass': False,\\n  'target_type': 'classification',\\n  'signed': False})),\\n(0.040000, SimpleClassificationPipeline({'balancing:strategy': 'none', 'classifier:__choice__': 'gradient_boosting', 'data_preprocessor:__choice__': 'feature_type', 'feature_preprocessor:__choice__': 'feature_agglomeration', 'classifier:gradient_boosting:early_stop': 'off', 'classifier:gradient_boosting:l2_regularization': 1.4326355176911239e-09, 'classifier:gradient_boosting:learning_rate': 0.3500835102340142, 'classifier:gradient_boosting:loss': 'auto', 'classifier:gradient_boosting:max_bins': 255, 'classifier:gradient_boosting:max_depth': 'None', 'classifier:gradient_boosting:max_leaf_nodes': 206, 'classifier:gradient_boosting:min_samples_leaf': 1, 'classifier:gradient_boosting:scoring': 'loss', 'classifier:gradient_boosting:tol': 1e-07, 'data_preprocessor:feature_type:categorical_transformer:categorical_encoding:__choice__': 'no_encoding', 'data_preprocessor:feature_type:categorical_transformer:category_coalescence:__choice__': 'minority_coalescer', 'data_preprocessor:feature_type:numerical_transformer:imputation:strategy': 'most_frequent', 'data_preprocessor:feature_type:numerical_transformer:rescaling:__choice__': 'none', 'feature_preprocessor:feature_agglomeration:affinity': 'cosine', 'feature_preprocessor:feature_agglomeration:linkage': 'average', 'feature_preprocessor:feature_agglomeration:n_clusters': 5, 'feature_preprocessor:feature_agglomeration:pooling_func': 'max', 'data_preprocessor:feature_type:categorical_transformer:category_coalescence:minority_coalescer:minimum_fraction': 0.012886300786167442},\\ndataset_properties={\\n  'task': 1,\\n  'sparse': False,\\n  'multilabel': False,\\n  'multiclass': False,\\n  'target_type': 'classification',\\n  'signed': False})),\\n]\""
      ]
     },
     "execution_count": 8,
     "metadata": {},
     "output_type": "execute_result"
    }
   ],
   "source": [
    "automl_classifier.show_models()"
   ]
  },
  {
   "cell_type": "code",
   "execution_count": null,
   "id": "7cbc5ab1",
   "metadata": {},
   "outputs": [],
   "source": []
  }
 ],
 "metadata": {
  "kernelspec": {
   "display_name": "Python 3",
   "language": "python",
   "name": "python3"
  },
  "language_info": {
   "codemirror_mode": {
    "name": "ipython",
    "version": 3
   },
   "file_extension": ".py",
   "mimetype": "text/x-python",
   "name": "python",
   "nbconvert_exporter": "python",
   "pygments_lexer": "ipython3",
   "version": "3.8.8"
  }
 },
 "nbformat": 4,
 "nbformat_minor": 5
}
